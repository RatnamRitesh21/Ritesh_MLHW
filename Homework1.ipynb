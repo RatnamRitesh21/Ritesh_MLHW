{
  "nbformat": 4,
  "nbformat_minor": 0,
  "metadata": {
    "colab": {
      "provenance": [],
      "authorship_tag": "ABX9TyPx5Ywsu+s+UBpDA3SKOj0l",
      "include_colab_link": true
    },
    "kernelspec": {
      "name": "python3",
      "display_name": "Python 3"
    },
    "language_info": {
      "name": "python"
    }
  },
  "cells": [
    {
      "cell_type": "markdown",
      "metadata": {
        "id": "view-in-github",
        "colab_type": "text"
      },
      "source": [
        "<a href=\"https://colab.research.google.com/github/RatnamRitesh21/Ritesh_MLHW/blob/main/Homework1.ipynb\" target=\"_parent\"><img src=\"https://colab.research.google.com/assets/colab-badge.svg\" alt=\"Open In Colab\"/></a>"
      ]
    },
    {
      "cell_type": "code",
      "source": [
        "#@title Calculate Correlation coefficient, Cosine Similarity, Euclidean distance using UserDefined functions from numpy\n",
        "\n",
        "import numpy as np\n",
        "import math\n",
        "\n",
        "vector_1 = np.array([2,5,8,9,5,6])\n",
        "vector_2 = np.array([1,3,6,2,4,2])\n",
        "\n",
        "def dotProduct(vector1, vector2):\n",
        "    if len(vector1)!=len(vector2):\n",
        "        raise ValueError(\"Vectors must be having same length\")\n",
        "    dp=0\n",
        "    for i in range(len(vector1)):\n",
        "        dp+=vector1[i]*vector2[i]\n",
        "    return dp\n",
        "\n",
        "def magnitude(vector):\n",
        "    sum = 0\n",
        "    for i in range(len(vector)):\n",
        "        sum+=(vector[i])**2\n",
        "    return math.sqrt(sum)\n",
        "\n",
        "  # Correlation Coeffcient\n",
        "\n",
        "def mean(vector):\n",
        "    m=sum(vector)/len(vector)\n",
        "    return m\n",
        "\n",
        "def correlation(x,y):\n",
        "  covariance_ = 0\n",
        "  a = 0\n",
        "  b = 0\n",
        "\n",
        "  for i in range(len(x)):\n",
        "     a+= (x[i]-mean(x))**2\n",
        "     b+= (y[i]-mean(y))**2\n",
        "     covariance_ += ((x[i]-mean(x))*(y[i]-mean(y)))\n",
        "  sd_x = math.sqrt(a) # Standard Deviation of vector1\n",
        "  sd_y = math.sqrt(b) # Standard Deviation of vector2\n",
        "  Correlation= (covariance_)/(sd_x*sd_y)\n",
        "  return Correlation\n",
        "result= correlation(vector_1,vector_2)\n",
        "print(\"Correlation Coefficient = {}\".format(result))\n",
        "\n",
        "# Cosine Similarity\n",
        "\n",
        "CosineSimilarity = dotProduct(vector_1,vector_2)/(magnitude(vector_1)*magnitude(vector_2))\n",
        "print(\"Cosine Similarity = \",CosineSimilarity)\n",
        "\n",
        "# Euclidean Distance\n",
        "\n",
        "difference = vector_1-vector_2\n",
        "EuclideanDistance=magnitude(difference)\n",
        "print(\"Euclidean Distance = {}\".format(EuclideanDistance))\n",
        "\n",
        "\n",
        "\n"
      ],
      "metadata": {
        "colab": {
          "base_uri": "https://localhost:8080/"
        },
        "id": "qyRYaximWQx_",
        "outputId": "061e622b-bf62-4c6a-9cfa-916e9813a679"
      },
      "execution_count": 38,
      "outputs": [
        {
          "output_type": "stream",
          "name": "stdout",
          "text": [
            "Correlation Coefficient = 0.4502251688907481\n",
            "Cosine Similarity =  0.8966333519232681\n",
            "Euclidean Distance = 8.660254037844387\n"
          ]
        }
      ]
    },
    {
      "cell_type": "code",
      "execution_count": 39,
      "metadata": {
        "id": "zgoa37W3908W",
        "colab": {
          "base_uri": "https://localhost:8080/"
        },
        "outputId": "7100182a-ebef-4d29-fdd6-ef99f8cd4230"
      },
      "outputs": [
        {
          "output_type": "stream",
          "name": "stdout",
          "text": [
            "Correlation Coefficient: 0.4502251688907482\n",
            "Cosine Similarity: 0.8966333519232681\n",
            "Euclidean Distance: 8.660254037844387\n"
          ]
        }
      ],
      "source": [
        "#@title Calculate Correlation coefficient, Cosine Similarity, Euclidean distance using Predefined functions from numpy\n",
        "\n",
        "import numpy as np\n",
        "\n",
        "\n",
        "vector_1 = np.array([2,5,8,9,5,6])\n",
        "vector_2 = np.array([1,3,6,2,4,2])\n",
        "\n",
        "# Calculate correlation coefficient\n",
        "correlation_coefficient = np.corrcoef(vector_1, vector_2)[0, 1]\n",
        "\n",
        "# Calculate cosine similarity\n",
        "dotProduct = np.dot(vector_1, vector_2)\n",
        "magnitude1 = np.linalg.norm(vector_1)\n",
        "magnitude2 = np.linalg.norm(vector_2)\n",
        "cosine_similarity = dotProduct / (magnitude1 * magnitude2)\n",
        "\n",
        "# Calculate Euclidean distance\n",
        "euclidean_distance = np.linalg.norm(vector_1 - vector_2)\n",
        "\n",
        "\n",
        "\n",
        "print(f\"Correlation Coefficient: {correlation_coefficient}\")\n",
        "print(f\"Cosine Similarity: {cosine_similarity}\")\n",
        "print(f\"Euclidean Distance: {euclidean_distance}\")\n",
        "\n"
      ]
    },
    {
      "cell_type": "code",
      "source": [
        "#@title Using Pre-defined functions to calculate Correlation coefficient, Euclidean distance and Cosine similarity from Scipy in python\n",
        "import numpy as np\n",
        "from scipy.spatial.distance import cosine, euclidean\n",
        "from scipy.stats import pearsonr\n",
        "\n",
        "#Defining two vectors\n",
        "vector1 = np.array([2,5,8,9,5,6])\n",
        "vector2 = np.array([1,3,6,2,4,2])\n",
        "print(\"Vector1 : {} Vector2 : {}\".format(vector1,vector2))\n",
        "\n",
        "#Calculate Correlation\n",
        "correlation_coefficient = pearsonr(vector1,vector2)\n",
        "print(\"Correlation Coefficient : {}\".format(correlation_coefficient[0]))\n",
        "\n",
        "# Calculate cosine similarity\n",
        "similarity = 1 - cosine(vector1, vector2)\n",
        "print(\"Cosine_Similarity : {}\".format(similarity))\n",
        "\n",
        "#Calculate Euclidean distance\n",
        "print(\"Euclidean_Dist : {}\".format(euclidean(vector1,vector2)))"
      ],
      "metadata": {
        "id": "50D6P2L8M1LZ",
        "colab": {
          "base_uri": "https://localhost:8080/"
        },
        "outputId": "632ec4fa-aacc-46c2-d98c-700e4600d0a4"
      },
      "execution_count": 40,
      "outputs": [
        {
          "output_type": "stream",
          "name": "stdout",
          "text": [
            "Vector1 : [2 5 8 9 5 6] Vector2 : [1 3 6 2 4 2]\n",
            "Correlation Coefficient : 0.4502251688907482\n",
            "Cosine_Similarity : 0.8966333519232681\n",
            "Euclidean_Dist : 8.660254037844387\n"
          ]
        }
      ]
    },
    {
      "cell_type": "code",
      "source": [
        "#@title Using Pandas in Python to caculate Correlation Coefficient\n",
        "import pandas as pd\n",
        "\n",
        "vector1 = pd.Series([2,5,8,9,5,6])\n",
        "vector2 = pd.Series([1,3,6,2,4,2])\n",
        "\n",
        "#correlation\n",
        "print(\"Correlation Coefficient :\", vector1.corr(vector2))\n"
      ],
      "metadata": {
        "colab": {
          "base_uri": "https://localhost:8080/"
        },
        "id": "--phC5MSJA1R",
        "outputId": "5bbaa2d8-faba-411f-eaf3-b1434d1fdbe1"
      },
      "execution_count": 41,
      "outputs": [
        {
          "output_type": "stream",
          "name": "stdout",
          "text": [
            "Correlation Coefficient : 0.4502251688907482\n"
          ]
        }
      ]
    }
  ]
}